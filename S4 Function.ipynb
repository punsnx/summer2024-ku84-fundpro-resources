{
 "cells": [
  {
   "cell_type": "markdown",
   "metadata": {},
   "source": [
    "# 4 Functions\n",
    "\n",
    "* การสร้าง function ในภาษา python นั้นสร้างได้ด้วย keyword \"def\"\n",
    "* และเรียกใช้ function นั้นด้วยชื่อของมัน"
   ]
  },
  {
   "cell_type": "code",
   "execution_count": 1,
   "metadata": {},
   "outputs": [
    {
     "name": "stdout",
     "output_type": "stream",
     "text": [
      "Hello World\n"
     ]
    }
   ],
   "source": [
    "def Function1():\n",
    "    print(\"Hello World\")\n",
    "    \n",
    "Function1()"
   ]
  },
  {
   "cell_type": "markdown",
   "metadata": {},
   "source": [
    "* Function นั้นสามารถรับ parameters ได้ โดยกำหนด parameter และชนิดของ parameter ด้วย\n",
    "* รวมไปถึงการ return ค่า เพื่อนำไปใช้ต่อได้"
   ]
  },
  {
   "cell_type": "code",
   "execution_count": 2,
   "metadata": {},
   "outputs": [
    {
     "name": "stdout",
     "output_type": "stream",
     "text": [
      "Circle Area is 19.625\n"
     ]
    }
   ],
   "source": [
    "def circleArea(radius: float):\n",
    "    return 3.14*radius*radius\n",
    "\n",
    "ShapeArea = circleArea(2.5)\n",
    "\n",
    "print(f\"Circle Area is {ShapeArea}\")"
   ]
  },
  {
   "cell_type": "markdown",
   "metadata": {},
   "source": [
    "* ตัวแปร global และ local"
   ]
  },
  {
   "cell_type": "code",
   "execution_count": 3,
   "metadata": {},
   "outputs": [
    {
     "name": "stdout",
     "output_type": "stream",
     "text": [
      "100\n"
     ]
    }
   ],
   "source": [
    "x = 100\n",
    "\n",
    "def TestFunction1():\n",
    "    x = 50\n",
    "    \n",
    "TestFunction1()\n",
    "\n",
    "print(x)"
   ]
  },
  {
   "cell_type": "markdown",
   "metadata": {},
   "source": [
    "สังเกตได้ว่า ค่า x นั้นจะไม่เปลี่ยนแปลง เพราะ x ใน \"TestFunction1\" นั้นเป็นตัวแปร local ดังนั้น\\\n",
    "จึงมีชีวิตถึงแค่จบการทำงานของ function เท่านั้น ดังนั้น จึงไม่ใช่ x ตัวเดียวกันกับ ภายนอก\n",
    "* ถ้าอยากให้ตัวแปรใน function นั้น เป็นตัวแปรที่ส่งผลกับตัวแปรภายนอก ให้ใส่ global ลงไป (ไม่แนะนำให้ทำ)"
   ]
  },
  {
   "cell_type": "code",
   "execution_count": 8,
   "metadata": {},
   "outputs": [
    {
     "name": "stdout",
     "output_type": "stream",
     "text": [
      "50\n"
     ]
    }
   ],
   "source": [
    "x = 100\n",
    "\n",
    "def TestFunction1():\n",
    "    global x #<- ใส่ global x เพื่อกำหนดให้ x ใน TestFunction1 เป็นตัวแปร global\n",
    "    x = 50\n",
    "    \n",
    "TestFunction1()\n",
    "\n",
    "print(x)"
   ]
  },
  {
   "cell_type": "markdown",
   "metadata": {},
   "source": [
    "### Recursive Functions\n",
    "* หมายถึง ฟังก์ชั่นที่เรียกตัวเองซ้ำไปเรื่อยๆ จนกว่าจะมีเงื่อนไขที่ให้หยุดการทำงาน\n",
    "* เช่น factorial หรือ ลำดับ ฟิโบนักชี"
   ]
  },
  {
   "cell_type": "code",
   "execution_count": 9,
   "metadata": {},
   "outputs": [
    {
     "name": "stdout",
     "output_type": "stream",
     "text": [
      "Factorial of 5 is 120\n"
     ]
    }
   ],
   "source": [
    "x = 5\n",
    "\n",
    "def factorial(n: int):\n",
    "    if n == 0 or n == 1:\n",
    "        return 1\n",
    "    \n",
    "    return n * factorial(n-1)\n",
    "\n",
    "print(f\"Factorial of {x} is {factorial(x)}\")\n",
    "\n",
    "#factorial(5) -> 5 * factorial(4)\n",
    "#factorial(5) -> 5 * [4 * factorial(3)]\n",
    "#factorial(5) -> 5 * [4 * [3 * factorial(2)]]\n",
    "#factorial(5) -> 5 * [4 * [3 * [2 * factorial(1)]]]]\n",
    "#factorial(5) -> 5 * [4 * [3 * [2 * 1]]]]\n",
    "#factorial(5) -> 5 * 4 * 3 * 2 * 1 = 120"
   ]
  },
  {
   "cell_type": "markdown",
   "metadata": {},
   "source": [
    "#### Return true and false"
   ]
  },
  {
   "cell_type": "code",
   "execution_count": 14,
   "metadata": {},
   "outputs": [
    {
     "name": "stdout",
     "output_type": "stream",
     "text": [
      "You are admin\n"
     ]
    }
   ],
   "source": [
    "username = 'Admin'\n",
    "\n",
    "def adminCheck(user: str):\n",
    "    if (user == \"Admin\"):\n",
    "        return True\n",
    "    \n",
    "    return False\n",
    "\n",
    "if (adminCheck(username)):\n",
    "    print(\"You are admin\")\n",
    "else:\n",
    "    print(\"You are not admin\")"
   ]
  }
 ],
 "metadata": {
  "kernelspec": {
   "display_name": "Python 3",
   "language": "python",
   "name": "python3"
  },
  "language_info": {
   "codemirror_mode": {
    "name": "ipython",
    "version": 3
   },
   "file_extension": ".py",
   "mimetype": "text/x-python",
   "name": "python",
   "nbconvert_exporter": "python",
   "pygments_lexer": "ipython3",
   "version": "3.12.3"
  }
 },
 "nbformat": 4,
 "nbformat_minor": 2
}
