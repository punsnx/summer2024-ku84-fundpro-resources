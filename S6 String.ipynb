{
 "cells": [
  {
   "cell_type": "markdown",
   "metadata": {},
   "source": [
    "# 6 String\n",
    "\n",
    "#### method ต่างๆใน string พื้นฐานที่ใช้บ่อยๆ ได้แก่\n",
    "\n",
    "* .lower() -> แปลงอักขระให้เป็นตัว Lowercase (พิมพ์เล็ก)\n",
    "* .upper() -> แปลงอักขระให้เป็นตัว Uppercase (พิมพ์ใหญ่)\n",
    "\n",
    "* .islower() -> ตรวจสอบอักขระว่าเป็นตัวพิมพ์เล็กหรือไม่\n",
    "* .isupper() -> ตรวจสอบอักขระว่าเป็นตัวพิมพ์ใหญ่หรือไม่\n",
    "\n",
    "* .swapcase() -> สลับพิมพ์ใหญ่ให้เป็นพิมพ์เล็ก พิมพ์เล็กให้เป็นพิมพ์ใหญ่"
   ]
  },
  {
   "cell_type": "code",
   "execution_count": 8,
   "metadata": {},
   "outputs": [
    {
     "name": "stdout",
     "output_type": "stream",
     "text": [
      "abc\n",
      "DEF\n",
      "------\n",
      "False\n",
      "True\n",
      "------\n",
      "True\n",
      "False\n",
      "------\n",
      "hELLO wORLD\n"
     ]
    }
   ],
   "source": [
    "print(\"ABC\".lower())\n",
    "print(\"def\".upper())\n",
    "\n",
    "print(\"------\")\n",
    "\n",
    "print(\"A\".islower())\n",
    "print(\"a\".islower())\n",
    "\n",
    "print(\"------\")\n",
    "\n",
    "print(\"B\".isupper())\n",
    "print(\"b\".isupper())\n",
    "\n",
    "print(\"------\")\n",
    "\n",
    "print(\"Hello World\".swapcase())"
   ]
  },
  {
   "cell_type": "markdown",
   "metadata": {},
   "source": [
    "### Method อื่นๆ\n",
    "\n",
    "* .isdigit() -> ตรวจสอบว่าเป็น digit ของตัวเลขหรือไม่ 0-9"
   ]
  },
  {
   "cell_type": "code",
   "execution_count": 3,
   "metadata": {},
   "outputs": [
    {
     "name": "stdout",
     "output_type": "stream",
     "text": [
      "True\n",
      "False\n"
     ]
    }
   ],
   "source": [
    "print(\"1234\".isdigit())\n",
    "print(\"1234.56\".isdigit())"
   ]
  },
  {
   "cell_type": "markdown",
   "metadata": {},
   "source": [
    "* .isalpha() -> ตรวจสอบว่าเป็น alphabet (อักขระ) หรือไม่\n",
    "* .isalnum() -> ตรวจสอบว่าเป็น alphabet หรือ numeric (อักขระหรือตัวเลข) หรือไม่"
   ]
  },
  {
   "cell_type": "code",
   "execution_count": 5,
   "metadata": {},
   "outputs": [
    {
     "name": "stdout",
     "output_type": "stream",
     "text": [
      "False\n",
      "True\n",
      "------\n",
      "False\n",
      "False\n"
     ]
    }
   ],
   "source": [
    "print(\"abc123\".isalpha())\n",
    "print(\"abc123\".isalnum())\n",
    "\n",
    "print(\"------\")\n",
    "\n",
    "print(\"&@$&*\".isalpha())\n",
    "print(\"&@$&*\".isalnum())"
   ]
  },
  {
   "cell_type": "markdown",
   "metadata": {},
   "source": [
    "* .title() -> ทำให้ตัวแรกเป็นตัวพิมพ์ใหญ่ ที่เหลือเป็นพิมพ์เล็ก"
   ]
  },
  {
   "cell_type": "code",
   "execution_count": 11,
   "metadata": {},
   "outputs": [
    {
     "name": "stdout",
     "output_type": "stream",
     "text": [
      "Hello World Title\n",
      "Hello World Title\n"
     ]
    }
   ],
   "source": [
    "print(\"HELLO WORLD TITLE\".title())\n",
    "print(\"HelLO wORld TitLE\".title())"
   ]
  },
  {
   "cell_type": "markdown",
   "metadata": {},
   "source": [
    "* string ไม่สามารถ assign ค่าได้!"
   ]
  },
  {
   "cell_type": "code",
   "execution_count": 12,
   "metadata": {},
   "outputs": [
    {
     "ename": "TypeError",
     "evalue": "'str' object does not support item assignment",
     "output_type": "error",
     "traceback": [
      "\u001b[1;31m---------------------------------------------------------------------------\u001b[0m",
      "\u001b[1;31mTypeError\u001b[0m                                 Traceback (most recent call last)",
      "Cell \u001b[1;32mIn[12], line 2\u001b[0m\n\u001b[0;32m      1\u001b[0m text \u001b[38;5;241m=\u001b[39m \u001b[38;5;124m\"\u001b[39m\u001b[38;5;124mhello world\u001b[39m\u001b[38;5;124m\"\u001b[39m\n\u001b[1;32m----> 2\u001b[0m \u001b[43mtext\u001b[49m\u001b[43m[\u001b[49m\u001b[38;5;241;43m0\u001b[39;49m\u001b[43m]\u001b[49m \u001b[38;5;241m=\u001b[39m \u001b[38;5;124m\"\u001b[39m\u001b[38;5;124mj\u001b[39m\u001b[38;5;124m\"\u001b[39m\n\u001b[0;32m      3\u001b[0m \u001b[38;5;28mprint\u001b[39m(text)\n",
      "\u001b[1;31mTypeError\u001b[0m: 'str' object does not support item assignment"
     ]
    }
   ],
   "source": [
    "text = \"hello world\"\n",
    "text[0] = \"j\"\n",
    "print(text)"
   ]
  },
  {
   "cell_type": "markdown",
   "metadata": {},
   "source": [
    "* การเชื่อมต่อ string เข้าด้วยกัน สามารถทำได้เหมือนการบวกเลข โดยนำมา + กันเลย"
   ]
  },
  {
   "cell_type": "code",
   "execution_count": 15,
   "metadata": {},
   "outputs": [
    {
     "name": "stdout",
     "output_type": "stream",
     "text": [
      "HelloWorld\n",
      "Hello World\n"
     ]
    }
   ],
   "source": [
    "text1 = \"Hello\"\n",
    "text2 = \"World\"\n",
    "print(text1 + text2)\n",
    "print(text1 + \" \" + text2)"
   ]
  }
 ],
 "metadata": {
  "kernelspec": {
   "display_name": "Python 3",
   "language": "python",
   "name": "python3"
  },
  "language_info": {
   "codemirror_mode": {
    "name": "ipython",
    "version": 3
   },
   "file_extension": ".py",
   "mimetype": "text/x-python",
   "name": "python",
   "nbconvert_exporter": "python",
   "pygments_lexer": "ipython3",
   "version": "3.12.3"
  }
 },
 "nbformat": 4,
 "nbformat_minor": 2
}
