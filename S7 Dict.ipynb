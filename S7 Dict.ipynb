{
 "cells": [
  {
   "cell_type": "markdown",
   "metadata": {},
   "source": [
    "# Dictionary\n",
    "* มีไว้เพื่อเก็บข้อมูล และค่าของข้อมูล (key, value)\n",
    "* เหมาะสำหรับการใช้นับ"
   ]
  },
  {
   "cell_type": "code",
   "execution_count": 2,
   "metadata": {},
   "outputs": [
    {
     "name": "stdout",
     "output_type": "stream",
     "text": [
      "{'Name': 'John', 'Age': 19, 'University': 'Kasetsart University'}\n"
     ]
    }
   ],
   "source": [
    "person = {}\n",
    "\n",
    "person[\"Name\"] = 'John'\n",
    "person[\"Age\"] = 19\n",
    "person[\"University\"] = \"Kasetsart University\"\n",
    "\n",
    "print(person)"
   ]
  },
  {
   "cell_type": "code",
   "execution_count": 3,
   "metadata": {},
   "outputs": [
    {
     "name": "stdout",
     "output_type": "stream",
     "text": [
      "39900\n"
     ]
    }
   ],
   "source": [
    "prices = {}\n",
    "\n",
    "prices[\"iPhone 15 Pro Max\"] = 49900\n",
    "prices[\"Galaxy S24 Ultra\"] = 39900\n",
    "\n",
    "print(prices[\"Galaxy S24 Ultra\"])"
   ]
  },
  {
   "cell_type": "markdown",
   "metadata": {},
   "source": [
    "#### การไล่ keys, values ใน dictionary"
   ]
  },
  {
   "cell_type": "code",
   "execution_count": 4,
   "metadata": {},
   "outputs": [],
   "source": [
    "data = {\n",
    "    \"A\": 1,\n",
    "    \"B\": 2,\n",
    "    \"C\": 3,\n",
    "    \"D\": 4,\n",
    "    \"E\": 5,\n",
    "    \"F\": 6\n",
    "}"
   ]
  },
  {
   "cell_type": "code",
   "execution_count": 5,
   "metadata": {},
   "outputs": [
    {
     "name": "stdout",
     "output_type": "stream",
     "text": [
      "A\n",
      "B\n",
      "C\n",
      "D\n",
      "E\n",
      "F\n"
     ]
    }
   ],
   "source": [
    "for i in data:\n",
    "    print(i) #<- keys"
   ]
  },
  {
   "cell_type": "code",
   "execution_count": 6,
   "metadata": {},
   "outputs": [
    {
     "name": "stdout",
     "output_type": "stream",
     "text": [
      "A\n",
      "B\n",
      "C\n",
      "D\n",
      "E\n",
      "F\n",
      "-----\n",
      "1\n",
      "2\n",
      "3\n",
      "4\n",
      "5\n",
      "6\n"
     ]
    }
   ],
   "source": [
    "for i in data.keys():\n",
    "    print(i)\n",
    "    \n",
    "print(\"-----\")\n",
    "\n",
    "for i in data.values():\n",
    "    print(i)"
   ]
  },
  {
   "cell_type": "code",
   "execution_count": 7,
   "metadata": {},
   "outputs": [
    {
     "name": "stdout",
     "output_type": "stream",
     "text": [
      "key A has value 1\n",
      "key B has value 2\n",
      "key C has value 3\n",
      "key D has value 4\n",
      "key E has value 5\n",
      "key F has value 6\n"
     ]
    }
   ],
   "source": [
    "for i,j in data.items():\n",
    "    print(f\"key {i} has value {j}\")"
   ]
  },
  {
   "cell_type": "markdown",
   "metadata": {},
   "source": [
    "#### ตัวอย่างโปรแกรมนับตัวอักษรใน string โดยใช้ dictionary"
   ]
  },
  {
   "cell_type": "code",
   "execution_count": 10,
   "metadata": {},
   "outputs": [
    {
     "name": "stdout",
     "output_type": "stream",
     "text": [
      "c = 3\n",
      "o = 1\n",
      "m = 1\n",
      "p = 1\n",
      "u = 2\n",
      "t = 3\n",
      "e = 4\n",
      "r = 1\n",
      "s = 3\n",
      "i = 1\n",
      "n = 2\n",
      "d = 1\n"
     ]
    }
   ],
   "source": [
    "data = {}\n",
    "\n",
    "text = \"computer science students\"\n",
    "\n",
    "for i in text:\n",
    "    \n",
    "    if i == \" \": #ไม่อยากนับ space\n",
    "        continue\n",
    "    \n",
    "    if i not in data:\n",
    "        data[i] = 1\n",
    "    else:\n",
    "        data[i] += 1\n",
    "        \n",
    "for i,j in data.items():\n",
    "    print(f\"{i} = {j}\")"
   ]
  }
 ],
 "metadata": {
  "kernelspec": {
   "display_name": "Python 3",
   "language": "python",
   "name": "python3"
  },
  "language_info": {
   "codemirror_mode": {
    "name": "ipython",
    "version": 3
   },
   "file_extension": ".py",
   "mimetype": "text/x-python",
   "name": "python",
   "nbconvert_exporter": "python",
   "pygments_lexer": "ipython3",
   "version": "3.12.3"
  }
 },
 "nbformat": 4,
 "nbformat_minor": 2
}
