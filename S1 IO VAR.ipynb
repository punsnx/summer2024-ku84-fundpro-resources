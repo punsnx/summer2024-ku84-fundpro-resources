{
 "cells": [
  {
   "cell_type": "markdown",
   "metadata": {},
   "source": [
    "# Let's start\n",
    "\n",
    "ขอ Image classicๆ Hello wolrld"
   ]
  },
  {
   "cell_type": "code",
   "execution_count": null,
   "metadata": {},
   "outputs": [],
   "source": [
    "print(\"Hello World\")"
   ]
  },
  {
   "cell_type": "code",
   "execution_count": null,
   "metadata": {},
   "outputs": [],
   "source": [
    "#Variables\n",
    "x = int(input())\n",
    "y = float(input())\n",
    "z = str(input())\n",
    "\n",
    "print(\"===\")\n",
    "print(x)\n",
    "print(y)\n",
    "print(z)\n",
    "\n",
    "print(\"===\")\n",
    "print(type(x))\n",
    "print(type(y))\n",
    "print(type(z))"
   ]
  },
  {
   "cell_type": "code",
   "execution_count": null,
   "metadata": {},
   "outputs": [],
   "source": [
    "#Variables input conflict\n",
    "\n",
    "x = int(input())\n",
    "print(x)"
   ]
  },
  {
   "cell_type": "code",
   "execution_count": null,
   "metadata": {},
   "outputs": [],
   "source": [
    "#Input With Text\n",
    "\n",
    "name = str(input(\"Enter your name: \"))\n",
    "age = int(input(\"Enter your age: \"))\n",
    "print(\"===\")\n",
    "print(name)\n",
    "print(age)"
   ]
  },
  {
   "cell_type": "code",
   "execution_count": null,
   "metadata": {},
   "outputs": [],
   "source": [
    "#Output With Text\n",
    "\n",
    "print(\"===\")\n",
    "print(\"Hello\", name)\n",
    "print(\"Your age is\", age, \"year(s) old.\")"
   ]
  },
  {
   "cell_type": "code",
   "execution_count": null,
   "metadata": {},
   "outputs": [],
   "source": [
    "#Compare the input types\n",
    "\n",
    "x = int(input())\n",
    "y = str(input())\n",
    "\n",
    "print(\"===\")\n",
    "print(x,y)\n",
    "\n",
    "if x == y:\n",
    "  print(\"x is the same as y\")\n",
    "else:\n",
    "  print(\"x is not the same as y\")\n",
    "\n",
    "print(\"Type of variable x is\", type(x))\n",
    "print(\"Type of variable y is\", type(y))"
   ]
  },
  {
   "cell_type": "code",
   "execution_count": null,
   "metadata": {},
   "outputs": [],
   "source": [
    "#Formatted outputs\n",
    "\n",
    "name = \"Top\"\n",
    "age = 19\n",
    "gpa = 3.45\n",
    "\n",
    "print(f\"His name is {name} His age is {age}\")\n",
    "print(f\"and GPA is {gpa}\")"
   ]
  },
  {
   "cell_type": "code",
   "execution_count": null,
   "metadata": {},
   "outputs": [],
   "source": [
    "#Formatted output of floats\n",
    "\n",
    "PI = 3.14159265358979323846264\n",
    "\n",
    "print(f\"first 4 digits of PI is {PI:.4f}\")\n",
    "print(f\"If there is no digits in PI it would be {PI:.0f}\")"
   ]
  },
  {
   "cell_type": "code",
   "execution_count": null,
   "metadata": {},
   "outputs": [],
   "source": [
    "#Formatted output of floats (2)\n",
    "\n",
    "Number = 69\n",
    "print(\"===\")\n",
    "print(f\"Number is {Number}\")\n",
    "print(f\"if use .2f, The Number would be {Number:.2f}\")\n",
    "\n",
    "Number2 = 69.99999\n",
    "print(\"===\")\n",
    "print(f\"Number2 is {Number2}\")\n",
    "print(f\"if use .2f, The Number2 would be {Number2:.2f}\")\n",
    "print(f\"if use .0f, The Number2 would be {Number2:.0f}\")\n",
    "\n",
    "Number3 = 41.4\n",
    "print(\"===\")\n",
    "print(f\"Number3 is {Number3}\")\n",
    "print(f\"if use .2f, The Number3 would be {Number3:.2f}\")\n",
    "print(f\"if use .0f, The Number3 would be {Number3:.0f}\")"
   ]
  },
  {
   "cell_type": "code",
   "execution_count": null,
   "metadata": {},
   "outputs": [],
   "source": [
    "#Formatted output of digits\n",
    "\n",
    "A = 9\n",
    "print(\"===\")\n",
    "print(f\"A => {A:02d}\")\n",
    "print(f\"A => {A:2d}\")\n",
    "print(\"===\")\n",
    "print(f\"A => {A:09d}\")\n",
    "print(f\"A => {A:9d}\")"
   ]
  },
  {
   "cell_type": "code",
   "execution_count": null,
   "metadata": {},
   "outputs": [],
   "source": [
    "print(f\"--------------------------\")\n",
    "print(f\"--[{'SampleText':^20}]--\") #\"SampleText\" อยู่กึ่งกลาง โดยจองช่องอักขระ 20 ตัว\n",
    "print(f\"--[{'SampleText':<20}]--\") #\"SampleText\" อยู่ชิดซ้าย โดยจองช่องอักขระ 20 ตัว\n",
    "print(f\"--[{'SampleText':>20}]--\") #\"SampleText\" อยู่ชิดขวา โดยจองช่องอักขระ 20 ตัว\n",
    "print(f\"--------------------------\")"
   ]
  }
 ],
 "metadata": {
  "kernelspec": {
   "display_name": "base",
   "language": "python",
   "name": "python3"
  },
  "language_info": {
   "name": "python",
   "version": "3.11.7"
  }
 },
 "nbformat": 4,
 "nbformat_minor": 2
}
