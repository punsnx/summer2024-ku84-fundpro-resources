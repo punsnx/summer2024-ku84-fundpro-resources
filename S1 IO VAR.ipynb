{
 "cells": [
  {
   "cell_type": "markdown",
   "metadata": {},
   "source": [
    "# Let's start\n",
    "\n",
    "ขอ Image classicๆ Hello wolrld รูปภาพเท่ๆ"
   ]
  },
  {
   "cell_type": "markdown",
   "metadata": {},
   "source": [
    "การเขียนภาษา python ทั่วๆ สามารถเขียนได้เลยโดยจะอยู่ใน global scope\n",
    "\n",
    "local scope อธิบายเพิ่มใน fucntion"
   ]
  },
  {
   "cell_type": "markdown",
   "metadata": {},
   "source": [
    "ลองสร้าง Output ออกมาเป็นคำกัน"
   ]
  },
  {
   "cell_type": "code",
   "execution_count": null,
   "metadata": {},
   "outputs": [],
   "source": [
    "print(\"Hello World\")\n",
    "# guess the output?????????"
   ]
  },
  {
   "cell_type": "markdown",
   "metadata": {},
   "source": [
    "กำหนดค่าตัวแปร"
   ]
  },
  {
   "cell_type": "code",
   "execution_count": null,
   "metadata": {},
   "outputs": [],
   "source": [
    "x = 1\n",
    "y = 2\n",
    "print(x,y)"
   ]
  },
  {
   "cell_type": "markdown",
   "metadata": {},
   "source": [
    "ลองรับ Input กันน\n",
    "- input() เป็น function ทีใช้รับ input จาก terminal\n",
    "\n",
    "Casting ให้อยู่ในรูป data type นั้นๆ\n",
    "- int()\n",
    "  *  |  int([x]) -> integer\n",
    "  *  |  int(x, base=10) -> integer\n",
    "- float() \n",
    "- str() \n",
    "\n",
    "ใช้ type() เพื่อระบุ type of variable\n",
    "- type(object) -> return the object's type\n",
    "\n",
    "หน้าตา function input()\n",
    "- input(prompt='', /)"
   ]
  },
  {
   "cell_type": "code",
   "execution_count": null,
   "metadata": {},
   "outputs": [],
   "source": [
    "#Variables\n",
    "x = int(input())\n",
    "y = float(input())\n",
    "z = str(input())\n",
    "\n",
    "print(\"===\")\n",
    "print(x)\n",
    "print(y)\n",
    "print(z)\n",
    "\n",
    "print(\"===\")\n",
    "print(type(x))\n",
    "print(type(y))\n",
    "print(type(z))"
   ]
  },
  {
   "cell_type": "markdown",
   "metadata": {},
   "source": [
    "ถ้า input ไม่ตรง type หล่ะ????????"
   ]
  },
  {
   "cell_type": "code",
   "execution_count": null,
   "metadata": {},
   "outputs": [],
   "source": [
    "#Variables input conflict\n",
    "\n",
    "x = int(input())\n",
    "print(x)"
   ]
  },
  {
   "cell_type": "code",
   "execution_count": null,
   "metadata": {},
   "outputs": [],
   "source": [
    "#Input With Text\n",
    "\n",
    "name = str(input(\"Enter your name: \"))\n",
    "age = int(input(\"Enter your age: \"))\n",
    "print(\"===\")\n",
    "print(name)\n",
    "print(age)"
   ]
  },
  {
   "cell_type": "markdown",
   "metadata": {},
   "source": [
    "#### print(*args, sep=' ', end='\\n', file=None, flush=False)\n",
    "- Prints the values to a stream, or to sys.stdout by default.\n",
    "\n",
    "- sep\n",
    "  * string inserted between values, default a space.\n",
    "- end\n",
    "  * string appended after the last value, default a newline.\n",
    "- file\n",
    "  * a file-like object (stream); defaults to the current sys.stdout.\n",
    "- flush\n",
    "  * whether to forcibly flush the stream."
   ]
  },
  {
   "cell_type": "code",
   "execution_count": null,
   "metadata": {},
   "outputs": [],
   "source": [
    "#Output With Text\n",
    "\n",
    "print(\"===\")\n",
    "print(\"Hello\", name)\n",
    "print(\"Your age is\", age, \"year(s) old.\")"
   ]
  },
  {
   "cell_type": "markdown",
   "metadata": {},
   "source": [
    "int number & str number เหมือนกันมั้ย ?"
   ]
  },
  {
   "cell_type": "code",
   "execution_count": null,
   "metadata": {},
   "outputs": [],
   "source": [
    "#Compare the input types (try input 1, 1)\n",
    "\n",
    "x = int(input())\n",
    "y = str(input())\n",
    "\n",
    "print(\"===\")\n",
    "print(x,y)\n",
    "\n",
    "if x == y:\n",
    "  print(\"x is the same as y\")\n",
    "else:\n",
    "  print(\"x is not the same as y\")\n",
    "\n",
    "print(\"Type of variable x is\", type(x))\n",
    "print(\"Type of variable y is\", type(y))"
   ]
  },
  {
   "cell_type": "markdown",
   "metadata": {},
   "source": [
    "การ format string \n",
    "- f\"abcde{variable}\" เป็น formated string"
   ]
  },
  {
   "cell_type": "code",
   "execution_count": null,
   "metadata": {},
   "outputs": [],
   "source": [
    "#Formatted outputs\n",
    "\n",
    "name = \"Top\"\n",
    "age = 19\n",
    "gpa = 3.45\n",
    "\n",
    "print(f\"His name is {name} His age is {age}\")\n",
    "print(f\"and GPA is {gpa}\")"
   ]
  },
  {
   "cell_type": "markdown",
   "metadata": {},
   "source": [
    "format floating point "
   ]
  },
  {
   "cell_type": "code",
   "execution_count": null,
   "metadata": {},
   "outputs": [],
   "source": [
    "#Formatted output of floats\n",
    "\n",
    "PI = 3.14159265358979323846264\n",
    "\n",
    "print(f\"first 4 digits of PI is {PI:.4f}\")\n",
    "print(f\"If there is no digits in PI it would be {PI:.0f}\")"
   ]
  },
  {
   "cell_type": "code",
   "execution_count": null,
   "metadata": {},
   "outputs": [],
   "source": [
    "#Formatted output of floats (2)\n",
    "\n",
    "Number = 69\n",
    "print(\"===\")\n",
    "print(f\"Number is {Number}\")\n",
    "print(f\"if use .2f, The Number would be {Number:.2f}\")\n",
    "\n",
    "Number2 = 69.99999\n",
    "print(\"===\")\n",
    "print(f\"Number2 is {Number2}\")\n",
    "print(f\"if use .2f, The Number2 would be {Number2:.2f}\")\n",
    "print(f\"if use .0f, The Number2 would be {Number2:.0f}\")\n",
    "\n",
    "Number3 = 41.4\n",
    "print(\"===\")\n",
    "print(f\"Number3 is {Number3}\")\n",
    "print(f\"if use .2f, The Number3 would be {Number3:.2f}\")\n",
    "print(f\"if use .0f, The Number3 would be {Number3:.0f}\")"
   ]
  },
  {
   "cell_type": "markdown",
   "metadata": {},
   "source": [
    "decimal format with filled space"
   ]
  },
  {
   "cell_type": "code",
   "execution_count": null,
   "metadata": {},
   "outputs": [],
   "source": [
    "#Formatted output of digits\n",
    "\n",
    "A = 9\n",
    "print(\"===\")\n",
    "print(f\"A => {A:02d}\")\n",
    "print(f\"A => {A:2d}\")\n",
    "print(\"===\")\n",
    "print(f\"A => {A:09d}\")\n",
    "print(f\"A => {A:9d}\")"
   ]
  },
  {
   "cell_type": "markdown",
   "metadata": {},
   "source": [
    "format position adjustment"
   ]
  },
  {
   "cell_type": "code",
   "execution_count": null,
   "metadata": {},
   "outputs": [],
   "source": [
    "print(f\"--------------------------\")\n",
    "print(f\"--[{'SampleText':^20}]--\") #\"SampleText\" อยู่กึ่งกลาง โดยจองช่องอักขระ 20 ตัว\n",
    "print(f\"--[{'SampleText':<20}]--\") #\"SampleText\" อยู่ชิดซ้าย โดยจองช่องอักขระ 20 ตัว\n",
    "print(f\"--[{'SampleText':>20}]--\") #\"SampleText\" อยู่ชิดขวา โดยจองช่องอักขระ 20 ตัว\n",
    "print(f\"--------------------------\")"
   ]
  }
 ],
 "metadata": {
  "kernelspec": {
   "display_name": "base",
   "language": "python",
   "name": "python3"
  },
  "language_info": {
   "codemirror_mode": {
    "name": "ipython",
    "version": 3
   },
   "file_extension": ".py",
   "mimetype": "text/x-python",
   "name": "python",
   "nbconvert_exporter": "python",
   "pygments_lexer": "ipython3",
   "version": "3.11.7"
  }
 },
 "nbformat": 4,
 "nbformat_minor": 2
}
